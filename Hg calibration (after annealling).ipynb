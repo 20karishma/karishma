{
 "cells": [
  {
   "cell_type": "code",
   "execution_count": 1,
   "id": "7e619bbb",
   "metadata": {},
   "outputs": [],
   "source": [
    "import pandas as pd\n",
    "import numpy as np\n",
    "import matplotlib.pyplot as plt\n",
    "import matplotlib as mpl\n",
    "import matplotlib.mlab as mlab\n",
    "import matplotlib.gridspec as gridspec\n",
    "import math\n",
    "from sklearn.linear_model import LinearRegression\n",
    "from sklearn.metrics import mean_squared_error, r2_score\n",
    "import statsmodels.api as sm\n",
    "import seaborn as sns\n",
    "%matplotlib inline"
   ]
  },
  {
   "cell_type": "markdown",
   "id": "7762408d",
   "metadata": {},
   "source": [
    "# Importing data"
   ]
  },
  {
   "cell_type": "code",
   "execution_count": 4,
   "id": "033d8a35",
   "metadata": {},
   "outputs": [],
   "source": [
    "data = pd.read_excel(r\"C:\\Users\\saura\\Downloads\\plot for project mercury\\calibration.xlsx\",engine = 'openpyxl')\n"
   ]
  },
  {
   "cell_type": "code",
   "execution_count": null,
   "id": "aae4f3a2",
   "metadata": {},
   "outputs": [],
   "source": [
    "data"
   ]
  },
  {
   "cell_type": "code",
   "execution_count": 183,
   "id": "c917faa9",
   "metadata": {},
   "outputs": [
    {
     "name": "stdout",
     "output_type": "stream",
     "text": [
      "203000000\n",
      "245000000.0\n",
      "-42000000.0\n",
      "763866.2737426826\n",
      "2485.8004483700524\n",
      "sy 761380.4732943126\n",
      "4782276.38740837\n",
      "780398.0457757841\n"
     ]
    },
    {
     "data": {
      "text/plain": [
       "-0.5008143204213169"
      ]
     },
     "execution_count": 183,
     "metadata": {},
     "output_type": "execute_result"
    }
   ],
   "source": [
    "data2 = data.drop(5,axis = 0)\n",
    "data2 = data.drop(6,axis = 0)\n",
    "data2 = data2.drop(['vol3'],axis = 1)\n",
    "data2 = data2.drop(['vol1'],axis = 1)\n",
    "\n",
    "xaxis = sum(data['conc'].values)\n",
    "xaxis2 = sum(data['conc'].values * data['conc'].values)\n",
    "print(xaxis2)\n",
    "xaxis2_2 = (xaxis*xaxis)/5\n",
    "print(xaxis2_2)\n",
    "sx =  (xaxis2 - xaxis2_2)\n",
    "print(sx)\n",
    "\n",
    "\n",
    "yaxis = sum(data['vol'].values)\n",
    "yaxis2 = sum(data['vol'].values * data['vol'].values)\n",
    "print(yaxis2)\n",
    "yaxis2_2 = (yaxis*yaxis)/5 \n",
    "print(yaxis2_2)\n",
    "sy = (yaxis2 - yaxis2_2)\n",
    "print(f\"sy {sy}\")\n",
    "\n",
    "xy = sum(data['conc'].values * data['vol'].values)\n",
    "print(xy)\n",
    "xysum = (sum(data['conc'].values) *sum(data['vol'].values))/5\n",
    "print(xysum)\n",
    "sxy = (xy - xysum)*(xy - xysum)\n",
    "\n",
    "sq = sx *sy\n",
    "sxy/sq"
   ]
  },
  {
   "cell_type": "code",
   "execution_count": 4,
   "id": "eacdfbee",
   "metadata": {},
   "outputs": [],
   "source": [
    "data = data.drop(7,axis=0)\n"
   ]
  },
  {
   "cell_type": "markdown",
   "id": "65d26ae6",
   "metadata": {},
   "source": [
    "## Scatter Plot"
   ]
  },
  {
   "cell_type": "code",
   "execution_count": 2,
   "id": "05bcd964",
   "metadata": {},
   "outputs": [],
   "source": [
    "def scatter_plot(x,y):\n",
    "    csfont = {'fontname':'Times New Roman'}\n",
    "    \n",
    "    plt.title(\"Calibration plot for Hg with $10^{-4}$M Pb\",fontweight='bold',**csfont)\n",
    "    plt.xlabel('Log of Concentration',fontweight='bold',**csfont)\n",
    "    plt.ylabel('Emf (mV)',fontweight='bold',**csfont)\n",
    "    \n",
    "    return plt.scatter(x,y)"
   ]
  },
  {
   "cell_type": "code",
   "execution_count": 7,
   "id": "fabcd748",
   "metadata": {},
   "outputs": [],
   "source": [
    "x = data['conc'].values  #Coverting dataframe to numpy array for Hg +Pb\n",
    "y = data['vol1'].values*1000"
   ]
  },
  {
   "cell_type": "code",
   "execution_count": 8,
   "id": "ef367b57",
   "metadata": {},
   "outputs": [],
   "source": [
    "x = data['conc'].values  #Coverting dataframe to numpy array for Hg\n",
    "y = data['vol'].values*1000"
   ]
  },
  {
   "cell_type": "code",
   "execution_count": 11,
   "id": "45860753",
   "metadata": {},
   "outputs": [
    {
     "ename": "ValueError",
     "evalue": "could not convert string to float: 'slope'",
     "output_type": "error",
     "traceback": [
      "\u001b[1;31m---------------------------------------------------------------------------\u001b[0m",
      "\u001b[1;31mValueError\u001b[0m                                Traceback (most recent call last)",
      "\u001b[1;32m~\\AppData\\Local\\Temp/ipykernel_16580/3997220886.py\u001b[0m in \u001b[0;36m<module>\u001b[1;34m\u001b[0m\n\u001b[1;32m----> 1\u001b[1;33m \u001b[0mscatter_plot\u001b[0m\u001b[1;33m(\u001b[0m\u001b[0mx\u001b[0m\u001b[1;33m,\u001b[0m\u001b[0my\u001b[0m\u001b[1;33m)\u001b[0m\u001b[1;33m\u001b[0m\u001b[1;33m\u001b[0m\u001b[0m\n\u001b[0m",
      "\u001b[1;32m~\\AppData\\Local\\Temp/ipykernel_16580/1191015515.py\u001b[0m in \u001b[0;36mscatter_plot\u001b[1;34m(x, y)\u001b[0m\n\u001b[0;32m      6\u001b[0m     \u001b[0mplt\u001b[0m\u001b[1;33m.\u001b[0m\u001b[0mylabel\u001b[0m\u001b[1;33m(\u001b[0m\u001b[1;34m'Emf (mV)'\u001b[0m\u001b[1;33m,\u001b[0m\u001b[0mfontweight\u001b[0m\u001b[1;33m=\u001b[0m\u001b[1;34m'bold'\u001b[0m\u001b[1;33m,\u001b[0m\u001b[1;33m**\u001b[0m\u001b[0mcsfont\u001b[0m\u001b[1;33m)\u001b[0m\u001b[1;33m\u001b[0m\u001b[1;33m\u001b[0m\u001b[0m\n\u001b[0;32m      7\u001b[0m \u001b[1;33m\u001b[0m\u001b[0m\n\u001b[1;32m----> 8\u001b[1;33m     \u001b[1;32mreturn\u001b[0m \u001b[0mplt\u001b[0m\u001b[1;33m.\u001b[0m\u001b[0mscatter\u001b[0m\u001b[1;33m(\u001b[0m\u001b[0mx\u001b[0m\u001b[1;33m,\u001b[0m\u001b[0my\u001b[0m\u001b[1;33m)\u001b[0m\u001b[1;33m\u001b[0m\u001b[1;33m\u001b[0m\u001b[0m\n\u001b[0m",
      "\u001b[1;32m~\\anaconda3\\anaconda\\lib\\site-packages\\matplotlib\\pyplot.py\u001b[0m in \u001b[0;36mscatter\u001b[1;34m(x, y, s, c, marker, cmap, norm, vmin, vmax, alpha, linewidths, edgecolors, plotnonfinite, data, **kwargs)\u001b[0m\n\u001b[0;32m   3066\u001b[0m         \u001b[0mvmin\u001b[0m\u001b[1;33m=\u001b[0m\u001b[1;32mNone\u001b[0m\u001b[1;33m,\u001b[0m \u001b[0mvmax\u001b[0m\u001b[1;33m=\u001b[0m\u001b[1;32mNone\u001b[0m\u001b[1;33m,\u001b[0m \u001b[0malpha\u001b[0m\u001b[1;33m=\u001b[0m\u001b[1;32mNone\u001b[0m\u001b[1;33m,\u001b[0m \u001b[0mlinewidths\u001b[0m\u001b[1;33m=\u001b[0m\u001b[1;32mNone\u001b[0m\u001b[1;33m,\u001b[0m \u001b[1;33m*\u001b[0m\u001b[1;33m,\u001b[0m\u001b[1;33m\u001b[0m\u001b[1;33m\u001b[0m\u001b[0m\n\u001b[0;32m   3067\u001b[0m         edgecolors=None, plotnonfinite=False, data=None, **kwargs):\n\u001b[1;32m-> 3068\u001b[1;33m     __ret = gca().scatter(\n\u001b[0m\u001b[0;32m   3069\u001b[0m         \u001b[0mx\u001b[0m\u001b[1;33m,\u001b[0m \u001b[0my\u001b[0m\u001b[1;33m,\u001b[0m \u001b[0ms\u001b[0m\u001b[1;33m=\u001b[0m\u001b[0ms\u001b[0m\u001b[1;33m,\u001b[0m \u001b[0mc\u001b[0m\u001b[1;33m=\u001b[0m\u001b[0mc\u001b[0m\u001b[1;33m,\u001b[0m \u001b[0mmarker\u001b[0m\u001b[1;33m=\u001b[0m\u001b[0mmarker\u001b[0m\u001b[1;33m,\u001b[0m \u001b[0mcmap\u001b[0m\u001b[1;33m=\u001b[0m\u001b[0mcmap\u001b[0m\u001b[1;33m,\u001b[0m \u001b[0mnorm\u001b[0m\u001b[1;33m=\u001b[0m\u001b[0mnorm\u001b[0m\u001b[1;33m,\u001b[0m\u001b[1;33m\u001b[0m\u001b[1;33m\u001b[0m\u001b[0m\n\u001b[0;32m   3070\u001b[0m         \u001b[0mvmin\u001b[0m\u001b[1;33m=\u001b[0m\u001b[0mvmin\u001b[0m\u001b[1;33m,\u001b[0m \u001b[0mvmax\u001b[0m\u001b[1;33m=\u001b[0m\u001b[0mvmax\u001b[0m\u001b[1;33m,\u001b[0m \u001b[0malpha\u001b[0m\u001b[1;33m=\u001b[0m\u001b[0malpha\u001b[0m\u001b[1;33m,\u001b[0m \u001b[0mlinewidths\u001b[0m\u001b[1;33m=\u001b[0m\u001b[0mlinewidths\u001b[0m\u001b[1;33m,\u001b[0m\u001b[1;33m\u001b[0m\u001b[1;33m\u001b[0m\u001b[0m\n",
      "\u001b[1;32m~\\anaconda3\\anaconda\\lib\\site-packages\\matplotlib\\__init__.py\u001b[0m in \u001b[0;36minner\u001b[1;34m(ax, data, *args, **kwargs)\u001b[0m\n\u001b[0;32m   1359\u001b[0m     \u001b[1;32mdef\u001b[0m \u001b[0minner\u001b[0m\u001b[1;33m(\u001b[0m\u001b[0max\u001b[0m\u001b[1;33m,\u001b[0m \u001b[1;33m*\u001b[0m\u001b[0margs\u001b[0m\u001b[1;33m,\u001b[0m \u001b[0mdata\u001b[0m\u001b[1;33m=\u001b[0m\u001b[1;32mNone\u001b[0m\u001b[1;33m,\u001b[0m \u001b[1;33m**\u001b[0m\u001b[0mkwargs\u001b[0m\u001b[1;33m)\u001b[0m\u001b[1;33m:\u001b[0m\u001b[1;33m\u001b[0m\u001b[1;33m\u001b[0m\u001b[0m\n\u001b[0;32m   1360\u001b[0m         \u001b[1;32mif\u001b[0m \u001b[0mdata\u001b[0m \u001b[1;32mis\u001b[0m \u001b[1;32mNone\u001b[0m\u001b[1;33m:\u001b[0m\u001b[1;33m\u001b[0m\u001b[1;33m\u001b[0m\u001b[0m\n\u001b[1;32m-> 1361\u001b[1;33m             \u001b[1;32mreturn\u001b[0m \u001b[0mfunc\u001b[0m\u001b[1;33m(\u001b[0m\u001b[0max\u001b[0m\u001b[1;33m,\u001b[0m \u001b[1;33m*\u001b[0m\u001b[0mmap\u001b[0m\u001b[1;33m(\u001b[0m\u001b[0msanitize_sequence\u001b[0m\u001b[1;33m,\u001b[0m \u001b[0margs\u001b[0m\u001b[1;33m)\u001b[0m\u001b[1;33m,\u001b[0m \u001b[1;33m**\u001b[0m\u001b[0mkwargs\u001b[0m\u001b[1;33m)\u001b[0m\u001b[1;33m\u001b[0m\u001b[1;33m\u001b[0m\u001b[0m\n\u001b[0m\u001b[0;32m   1362\u001b[0m \u001b[1;33m\u001b[0m\u001b[0m\n\u001b[0;32m   1363\u001b[0m         \u001b[0mbound\u001b[0m \u001b[1;33m=\u001b[0m \u001b[0mnew_sig\u001b[0m\u001b[1;33m.\u001b[0m\u001b[0mbind\u001b[0m\u001b[1;33m(\u001b[0m\u001b[0max\u001b[0m\u001b[1;33m,\u001b[0m \u001b[1;33m*\u001b[0m\u001b[0margs\u001b[0m\u001b[1;33m,\u001b[0m \u001b[1;33m**\u001b[0m\u001b[0mkwargs\u001b[0m\u001b[1;33m)\u001b[0m\u001b[1;33m\u001b[0m\u001b[1;33m\u001b[0m\u001b[0m\n",
      "\u001b[1;32m~\\anaconda3\\anaconda\\lib\\site-packages\\matplotlib\\axes\\_axes.py\u001b[0m in \u001b[0;36mscatter\u001b[1;34m(self, x, y, s, c, marker, cmap, norm, vmin, vmax, alpha, linewidths, edgecolors, plotnonfinite, **kwargs)\u001b[0m\n\u001b[0;32m   4585\u001b[0m         \u001b[0moffsets\u001b[0m \u001b[1;33m=\u001b[0m \u001b[0mnp\u001b[0m\u001b[1;33m.\u001b[0m\u001b[0mma\u001b[0m\u001b[1;33m.\u001b[0m\u001b[0mcolumn_stack\u001b[0m\u001b[1;33m(\u001b[0m\u001b[1;33m[\u001b[0m\u001b[0mx\u001b[0m\u001b[1;33m,\u001b[0m \u001b[0my\u001b[0m\u001b[1;33m]\u001b[0m\u001b[1;33m)\u001b[0m\u001b[1;33m\u001b[0m\u001b[1;33m\u001b[0m\u001b[0m\n\u001b[0;32m   4586\u001b[0m \u001b[1;33m\u001b[0m\u001b[0m\n\u001b[1;32m-> 4587\u001b[1;33m         collection = mcoll.PathCollection(\n\u001b[0m\u001b[0;32m   4588\u001b[0m                 \u001b[1;33m(\u001b[0m\u001b[0mpath\u001b[0m\u001b[1;33m,\u001b[0m\u001b[1;33m)\u001b[0m\u001b[1;33m,\u001b[0m \u001b[0mscales\u001b[0m\u001b[1;33m,\u001b[0m\u001b[1;33m\u001b[0m\u001b[1;33m\u001b[0m\u001b[0m\n\u001b[0;32m   4589\u001b[0m                 \u001b[0mfacecolors\u001b[0m\u001b[1;33m=\u001b[0m\u001b[0mcolors\u001b[0m\u001b[1;33m,\u001b[0m\u001b[1;33m\u001b[0m\u001b[1;33m\u001b[0m\u001b[0m\n",
      "\u001b[1;32m~\\anaconda3\\anaconda\\lib\\site-packages\\matplotlib\\collections.py\u001b[0m in \u001b[0;36m__init__\u001b[1;34m(self, paths, sizes, **kwargs)\u001b[0m\n\u001b[0;32m   1032\u001b[0m         \"\"\"\n\u001b[0;32m   1033\u001b[0m \u001b[1;33m\u001b[0m\u001b[0m\n\u001b[1;32m-> 1034\u001b[1;33m         \u001b[0msuper\u001b[0m\u001b[1;33m(\u001b[0m\u001b[1;33m)\u001b[0m\u001b[1;33m.\u001b[0m\u001b[0m__init__\u001b[0m\u001b[1;33m(\u001b[0m\u001b[1;33m**\u001b[0m\u001b[0mkwargs\u001b[0m\u001b[1;33m)\u001b[0m\u001b[1;33m\u001b[0m\u001b[1;33m\u001b[0m\u001b[0m\n\u001b[0m\u001b[0;32m   1035\u001b[0m         \u001b[0mself\u001b[0m\u001b[1;33m.\u001b[0m\u001b[0mset_paths\u001b[0m\u001b[1;33m(\u001b[0m\u001b[0mpaths\u001b[0m\u001b[1;33m)\u001b[0m\u001b[1;33m\u001b[0m\u001b[1;33m\u001b[0m\u001b[0m\n\u001b[0;32m   1036\u001b[0m         \u001b[0mself\u001b[0m\u001b[1;33m.\u001b[0m\u001b[0mset_sizes\u001b[0m\u001b[1;33m(\u001b[0m\u001b[0msizes\u001b[0m\u001b[1;33m)\u001b[0m\u001b[1;33m\u001b[0m\u001b[1;33m\u001b[0m\u001b[0m\n",
      "\u001b[1;32m~\\anaconda3\\anaconda\\lib\\site-packages\\matplotlib\\_api\\deprecation.py\u001b[0m in \u001b[0;36mwrapper\u001b[1;34m(*inner_args, **inner_kwargs)\u001b[0m\n\u001b[0;32m    429\u001b[0m                          \u001b[1;32melse\u001b[0m \u001b[0mdeprecation_addendum\u001b[0m\u001b[1;33m,\u001b[0m\u001b[1;33m\u001b[0m\u001b[1;33m\u001b[0m\u001b[0m\n\u001b[0;32m    430\u001b[0m                 **kwargs)\n\u001b[1;32m--> 431\u001b[1;33m         \u001b[1;32mreturn\u001b[0m \u001b[0mfunc\u001b[0m\u001b[1;33m(\u001b[0m\u001b[1;33m*\u001b[0m\u001b[0minner_args\u001b[0m\u001b[1;33m,\u001b[0m \u001b[1;33m**\u001b[0m\u001b[0minner_kwargs\u001b[0m\u001b[1;33m)\u001b[0m\u001b[1;33m\u001b[0m\u001b[1;33m\u001b[0m\u001b[0m\n\u001b[0m\u001b[0;32m    432\u001b[0m \u001b[1;33m\u001b[0m\u001b[0m\n\u001b[0;32m    433\u001b[0m     \u001b[1;32mreturn\u001b[0m \u001b[0mwrapper\u001b[0m\u001b[1;33m\u001b[0m\u001b[1;33m\u001b[0m\u001b[0m\n",
      "\u001b[1;32m~\\anaconda3\\anaconda\\lib\\site-packages\\matplotlib\\collections.py\u001b[0m in \u001b[0;36m__init__\u001b[1;34m(self, edgecolors, facecolors, linewidths, linestyles, capstyle, joinstyle, antialiaseds, offsets, transOffset, norm, cmap, pickradius, hatch, urls, offset_position, zorder, **kwargs)\u001b[0m\n\u001b[0;32m    204\u001b[0m         \u001b[0mself\u001b[0m\u001b[1;33m.\u001b[0m\u001b[0m_uniform_offsets\u001b[0m \u001b[1;33m=\u001b[0m \u001b[1;32mNone\u001b[0m\u001b[1;33m\u001b[0m\u001b[1;33m\u001b[0m\u001b[0m\n\u001b[0;32m    205\u001b[0m         \u001b[1;32mif\u001b[0m \u001b[0moffsets\u001b[0m \u001b[1;32mis\u001b[0m \u001b[1;32mnot\u001b[0m \u001b[1;32mNone\u001b[0m\u001b[1;33m:\u001b[0m\u001b[1;33m\u001b[0m\u001b[1;33m\u001b[0m\u001b[0m\n\u001b[1;32m--> 206\u001b[1;33m             \u001b[0moffsets\u001b[0m \u001b[1;33m=\u001b[0m \u001b[0mnp\u001b[0m\u001b[1;33m.\u001b[0m\u001b[0masanyarray\u001b[0m\u001b[1;33m(\u001b[0m\u001b[0moffsets\u001b[0m\u001b[1;33m,\u001b[0m \u001b[0mfloat\u001b[0m\u001b[1;33m)\u001b[0m\u001b[1;33m\u001b[0m\u001b[1;33m\u001b[0m\u001b[0m\n\u001b[0m\u001b[0;32m    207\u001b[0m             \u001b[1;31m# Broadcast (2,) -> (1, 2) but nothing else.\u001b[0m\u001b[1;33m\u001b[0m\u001b[1;33m\u001b[0m\u001b[0m\n\u001b[0;32m    208\u001b[0m             \u001b[1;32mif\u001b[0m \u001b[0moffsets\u001b[0m\u001b[1;33m.\u001b[0m\u001b[0mshape\u001b[0m \u001b[1;33m==\u001b[0m \u001b[1;33m(\u001b[0m\u001b[1;36m2\u001b[0m\u001b[1;33m,\u001b[0m\u001b[1;33m)\u001b[0m\u001b[1;33m:\u001b[0m\u001b[1;33m\u001b[0m\u001b[1;33m\u001b[0m\u001b[0m\n",
      "\u001b[1;32m~\\anaconda3\\anaconda\\lib\\site-packages\\numpy\\core\\_asarray.py\u001b[0m in \u001b[0;36masanyarray\u001b[1;34m(a, dtype, order, like)\u001b[0m\n\u001b[0;32m    169\u001b[0m         \u001b[1;32mreturn\u001b[0m \u001b[0m_asanyarray_with_like\u001b[0m\u001b[1;33m(\u001b[0m\u001b[0ma\u001b[0m\u001b[1;33m,\u001b[0m \u001b[0mdtype\u001b[0m\u001b[1;33m=\u001b[0m\u001b[0mdtype\u001b[0m\u001b[1;33m,\u001b[0m \u001b[0morder\u001b[0m\u001b[1;33m=\u001b[0m\u001b[0morder\u001b[0m\u001b[1;33m,\u001b[0m \u001b[0mlike\u001b[0m\u001b[1;33m=\u001b[0m\u001b[0mlike\u001b[0m\u001b[1;33m)\u001b[0m\u001b[1;33m\u001b[0m\u001b[1;33m\u001b[0m\u001b[0m\n\u001b[0;32m    170\u001b[0m \u001b[1;33m\u001b[0m\u001b[0m\n\u001b[1;32m--> 171\u001b[1;33m     \u001b[1;32mreturn\u001b[0m \u001b[0marray\u001b[0m\u001b[1;33m(\u001b[0m\u001b[0ma\u001b[0m\u001b[1;33m,\u001b[0m \u001b[0mdtype\u001b[0m\u001b[1;33m,\u001b[0m \u001b[0mcopy\u001b[0m\u001b[1;33m=\u001b[0m\u001b[1;32mFalse\u001b[0m\u001b[1;33m,\u001b[0m \u001b[0morder\u001b[0m\u001b[1;33m=\u001b[0m\u001b[0morder\u001b[0m\u001b[1;33m,\u001b[0m \u001b[0msubok\u001b[0m\u001b[1;33m=\u001b[0m\u001b[1;32mTrue\u001b[0m\u001b[1;33m)\u001b[0m\u001b[1;33m\u001b[0m\u001b[1;33m\u001b[0m\u001b[0m\n\u001b[0m\u001b[0;32m    172\u001b[0m \u001b[1;33m\u001b[0m\u001b[0m\n\u001b[0;32m    173\u001b[0m \u001b[1;33m\u001b[0m\u001b[0m\n",
      "\u001b[1;31mValueError\u001b[0m: could not convert string to float: 'slope'"
     ]
    },
    {
     "data": {
      "image/png": "[encoded data removed]",
      "text/plain": [
       "<Figure size 432x288 with 1 Axes>"
      ]
     },
     "metadata": {
      "needs_background": "light"
     },
     "output_type": "display_data"
    }
   ],
   "source": [
    "scatter_plot(x,y)"
   ]
  },
  {
   "cell_type": "code",
   "execution_count": 12,
   "id": "87c69816",
   "metadata": {},
   "outputs": [
    {
     "data": {
      "text/html": [
       "<div>\n",
       "<style scoped>\n",
       "    .dataframe tbody tr th:only-of-type {\n",
       "        vertical-align: middle;\n",
       "    }\n",
       "\n",
       "    .dataframe tbody tr th {\n",
       "        vertical-align: top;\n",
       "    }\n",
       "\n",
       "    .dataframe thead th {\n",
       "        text-align: right;\n",
       "    }\n",
       "</style>\n",
       "<table border=\"1\" class=\"dataframe\">\n",
       "  <thead>\n",
       "    <tr style=\"text-align: right;\">\n",
       "      <th></th>\n",
       "      <th>linearity</th>\n",
       "    </tr>\n",
       "  </thead>\n",
       "  <tbody>\n",
       "    <tr>\n",
       "      <th>0</th>\n",
       "      <td>-311.849</td>\n",
       "    </tr>\n",
       "    <tr>\n",
       "      <th>1</th>\n",
       "      <td>-301.146</td>\n",
       "    </tr>\n",
       "    <tr>\n",
       "      <th>2</th>\n",
       "      <td>-257.92</td>\n",
       "    </tr>\n",
       "    <tr>\n",
       "      <th>3</th>\n",
       "      <td>-144.211</td>\n",
       "    </tr>\n",
       "    <tr>\n",
       "      <th>4</th>\n",
       "      <td>-71.734</td>\n",
       "    </tr>\n",
       "  </tbody>\n",
       "</table>\n",
       "</div>"
      ],
      "text/plain": [
       "  linearity\n",
       "0  -311.849\n",
       "1  -301.146\n",
       "2   -257.92\n",
       "3  -144.211\n",
       "4   -71.734"
      ]
     },
     "execution_count": 12,
     "metadata": {},
     "output_type": "execute_result"
    }
   ],
   "source": [
    "x = data['conc'].values   #data\n",
    "y = data['vol'].values*1000   \n",
    "x1 = x[:5]\n",
    "y1 = y[:5]\n",
    "frame = pd.DataFrame(y1,columns=[\"linearity\"])\n",
    "frame"
   ]
  },
  {
   "cell_type": "code",
   "execution_count": null,
   "id": "a093d4eb",
   "metadata": {},
   "outputs": [],
   "source": []
  },
  {
   "cell_type": "markdown",
   "id": "9dbf4b2e",
   "metadata": {},
   "source": [
    "# Plot"
   ]
  },
  {
   "cell_type": "code",
   "execution_count": 3,
   "id": "9ab746b6",
   "metadata": {},
   "outputs": [],
   "source": [
    "def linear_fitting(x,y,x1,y1):\n",
    "    plt.figure(figsize=(5,6))\n",
    "\n",
    "    fig, ax = plt.subplots()\n",
    "    \n",
    "    csfont = {'fontname':'Times New Roman'}\n",
    "    \n",
    "\n",
    "    plt.title(\"Calibration plot for Hg with $10^{-4}M$ Pb \",fontweight='bold' ,fontsize = 18,**csfont)  #labeling the plot\n",
    "    plt.xlabel('Log of Concentration',fontweight='bold' ,fontsize = 18,**csfont)\n",
    "    plt.ylabel('EMF (mV)',fontweight='bold' ,fontsize = 18,**csfont)\n",
    "    \n",
    "    linear_model1 = np.polyfit(x1,y1,1)            #Linear fitting\n",
    "    print(f'The parameters of the line Red: {linear_model1}')\n",
    "    print(f'Slope of the curve is:  ',linear_model1[0] )\n",
    "    linear_model_fn1 = np.poly1d(linear_model1)\n",
    "    x_lim = np.arange(-8,-3)            #x limit\n",
    "    \n",
    "    \n",
    "    \n",
    "    linear_model2 = np.polyfit(x,y,1)\n",
    "    yobs = linear_model2[1] + x*linear_model2[0]  #y observed value from graph\n",
    "\n",
    "    for i in yobs:      #for calculating standard deviation\n",
    "        for j in y:\n",
    "            var = np.sum((j - i)**2)/6\n",
    "            yer = var ** 0.5\n",
    "            \n",
    "    plt.errorbar(x1, y1, yerr = yer,fmt = 'o',color = 'green',    #Error bars\n",
    "            ecolor = 'blue', elinewidth = 2, capsize=3)\n",
    "    \n",
    "#     linearity = data2.corr()['vol']        #For calculating linearity factor\n",
    "#     print(f'Linearity of the line is:   ',linearity)\n",
    "    \n",
    "    plt.xticks(x, weight = 'bold')          #For making x and y ticks bold\n",
    "    plt.yticks(y, weight = 'bold')\n",
    "    \n",
    "    ax.set_yticks(range(-600,600,100))    #range of y axis\n",
    "    \n",
    "    for axis in ['top','bottom','left','right']:\n",
    "        ax.spines[axis].set_linewidth(2)\n",
    "    \n",
    "    plt.scatter(x,y)\n",
    "#     plt.text(-8, 350, \"Sensitivity : 63.7mV/p[$Hg^{2+}$]M \\n$R^2$ : 0.91952 \\nLoD : $10^{-8}$M ~2ppb\",\n",
    "#              bbox = dict(facecolor = 'white', alpha = 1) ,fontsize = 11, **csfont,fontweight='bold')\n",
    "    \n",
    "    plt.text(-8, 350, \"Sensitivity : 63.26mV/p[$Hg^{2+}$]M \\n$R^2$ : 0.93791 \\nLoD : $10^{-8}$M ~2ppb\",\n",
    "             bbox = dict(facecolor = 'white', alpha = 1) ,fontsize = 11, **csfont,fontweight='bold')\n",
    "    \n",
    "    \n",
    "    plt.plot(x_lim,linear_model_fn1(x_lim),color=\"red\")\n",
    "    \n",
    "    linear_model2=np.polyfit(x2,y2,1)\n",
    "\n",
    "    print(f'The parameters of the line Black: {linear_model2}')\n",
    "    y2_line = linear_model2[1]+linear_model2[0]*x2\n",
    "    plt.plot(x2,y2_line,color=\"black\")\n",
    "    linear_model2_fn = np.poly1d(linear_model2)\n",
    "    x2_s = np.arange(-20,0)\n",
    "    plt.plot (x2_s,linear_model2_fn(x2_s),color=\"black\")\n",
    "    plt.tight_layout(pad=0.01, w_pad=0.5, h_pad=3.0) \n",
    "    \n",
    "    \n",
    "    \n",
    "    return \n"
   ]
  },
  {
   "cell_type": "code",
   "execution_count": 5,
   "id": "c3bfa1f3",
   "metadata": {},
   "outputs": [],
   "source": [
    "x = data['conc'].values   #data\n",
    "y = data['vol'].values*1000   \n",
    "x1 = x[:5]\n",
    "y1 = y[:5]\n",
    "# frame = pd.DataFrame(y1,columns=[\"linearity\"])\n",
    "# frame\n",
    "\n",
    "#Writing potential in millivolt"
   ]
  },
  {
   "cell_type": "code",
   "execution_count": 42,
   "id": "5f5c5c75",
   "metadata": {},
   "outputs": [
    {
     "data": {
      "text/plain": [
       "Power_divergenceResult(statistic=-203.112461605237, pvalue=1.0)"
      ]
     },
     "execution_count": 42,
     "metadata": {},
     "output_type": "execute_result"
    }
   ],
   "source": [
    "linearity_factor(y1)"
   ]
  },
  {
   "cell_type": "code",
   "execution_count": 199,
   "id": "12edad88",
   "metadata": {},
   "outputs": [],
   "source": [
    "xpb = data['conc'].values   #data\n",
    "ypb = data['vol1'].values*1000  #Writing potential in millivolt\n",
    "\n",
    "x1pb = xpb[:5]\n",
    "y1pb = ypb[:5]\n",
    "\n"
   ]
  },
  {
   "cell_type": "code",
   "execution_count": 202,
   "id": "15f30392",
   "metadata": {},
   "outputs": [
    {
     "name": "stdout",
     "output_type": "stream",
     "text": [
      "The parameters of the line Red: [ 63.26827896 158.93253313]\n",
      "Slope of the curve is:   63.26827896038675\n"
     ]
    },
    {
     "data": {
      "text/plain": [
       "<Figure size 360x432 with 0 Axes>"
      ]
     },
     "metadata": {},
     "output_type": "display_data"
    },
    {
     "data": {
      "image/png": "[encoded data removed]",
      "text/plain": [
       "<Figure size 432x288 with 1 Axes>"
      ]
     },
     "metadata": {
      "needs_background": "light"
     },
     "output_type": "display_data"
    }
   ],
   "source": [
    "linear_fitting(xpb,ypb,x1pb,y1pb)  #Function calling #Hg _Pb"
   ]
  },
  {
   "cell_type": "code",
   "execution_count": 1,
   "id": "c5191ec7",
   "metadata": {},
   "outputs": [],
   "source": [
    "\n",
    "def parameters(x1,y1):\n",
    "    \n",
    "    n = np.size(x1)\n",
    "    x1_mean = np.mean(x1)\n",
    "    y1_mean = np.mean(y1)\n",
    "    x1_mean,y1_mean\n",
    "  \n",
    "    Sxy = np.sum(x1*y1)- n*x1_mean*y1_mean\n",
    "    Sxx = np.sum(x1*x1)-n*x1_mean*x1_mean\n",
    "  \n",
    "    b1 = Sxy/Sxx\n",
    "    b0 = y1_mean-b1*x1_mean\n",
    "    print('slope b1 is', b1)\n",
    "    print('intercept b0 is', b0)\n",
    "\n",
    "    y1_pred = b1 * x1 + b0\n",
    "\n",
    "    error = y1 - y1_pred\n",
    "    se = np.sum(error**2)\n",
    "    print('squared error is', se)\n",
    "  \n",
    "    mse = se/n \n",
    "    print('mean squared error is', mse)\n",
    "  \n",
    "    rmse = np.sqrt(mse)\n",
    "    print('root mean square error is', rmse)\n",
    "  \n",
    "    SSt = np.sum((y1 - y1_mean)**2)\n",
    "    R2 = 1- (se/SSt)\n",
    "    print('R square is', R2)\n",
    "    \n",
    "    return"
   ]
  },
  {
   "cell_type": "code",
   "execution_count": 196,
   "id": "b2fd9a18",
   "metadata": {},
   "outputs": [
    {
     "name": "stdout",
     "output_type": "stream",
     "text": [
      "slope b1 is 63.26827896038658\n",
      "intercept b0 is 158.9325331310419\n",
      "squared error is 2649.906030331812\n",
      "mean squared error is 529.9812060663623\n",
      "root mean square error is 23.02132068466886\n",
      "R square is 0.9379102764547989\n"
     ]
    }
   ],
   "source": [
    "npb = np.size(x1pb)\n",
    "\n",
    "xpb = data['conc'].values   #data\n",
    "ypb = data['vol1'].values*1000  #Writing potential in millivolt\n",
    "\n",
    "x1pb = xpb[:5]\n",
    "y1pb = ypb[:5]\n",
    "\n",
    "  \n",
    "x1pb_mean = np.mean(x1pb)\n",
    "y1pb_mean = np.mean(y1pb)\n",
    "x1pb_mean,y1pb_mean\n",
    "  \n",
    "Sxypb = np.sum(x1pb*y1pb)- n*x1pb_mean*y1pb_mean\n",
    "Sxxpb = np.sum(x1pb*x1pb)-n*x1pb_mean*x1pb_mean\n",
    "  \n",
    "b1pb = Sxypb/Sxxpb\n",
    "b0pb = y1pb_mean-b1pb*x1pb_mean\n",
    "print('slope b1 is', b1pb)\n",
    "print('intercept b0 is', b0pb)\n",
    "\n",
    "y1pb_pred = b1pb * x1pb + b0pb\n",
    "\n",
    "errorpb = y1pb - y1pb_pred\n",
    "sepb = np.sum(errorpb**2)\n",
    "print('squared error is', sepb)\n",
    "  \n",
    "msepb = sepb/npb \n",
    "print('mean squared error is', msepb)\n",
    "  \n",
    "rmsepb = np.sqrt(msepb)\n",
    "print('root mean square error is', rmsepb)\n",
    "  \n",
    "SStpb = np.sum((y1pb - y1pb_mean)**2)\n",
    "R2pb = 1- (sepb/SStpb)\n",
    "print('R square is', R2pb)"
   ]
  },
  {
   "cell_type": "code",
   "execution_count": null,
   "id": "1e6cdb33",
   "metadata": {},
   "outputs": [],
   "source": []
  }
 ],
 "metadata": {
  "kernelspec": {
   "display_name": "Python 3 (ipykernel)",
   "language": "python",
   "name": "python3"
  },
  "language_info": {
   "codemirror_mode": {
    "name": "ipython",
    "version": 3
   },
   "file_extension": ".py",
   "mimetype": "text/x-python",
   "name": "python",
   "nbconvert_exporter": "python",
   "pygments_lexer": "ipython3",
   "version": "3.9.7"
  }
 },
 "nbformat": 4,
 "nbformat_minor": 5
}
